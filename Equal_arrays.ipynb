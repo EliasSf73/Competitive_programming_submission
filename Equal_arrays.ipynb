{
  "nbformat": 4,
  "nbformat_minor": 0,
  "metadata": {
    "colab": {
      "provenance": [],
      "authorship_tag": "ABX9TyOvWfKpXhNYifXX/duxOear",
      "include_colab_link": true
    },
    "kernelspec": {
      "name": "python3",
      "display_name": "Python 3"
    },
    "language_info": {
      "name": "python"
    }
  },
  "cells": [
    {
      "cell_type": "markdown",
      "metadata": {
        "id": "view-in-github",
        "colab_type": "text"
      },
      "source": [
        "<a href=\"https://colab.research.google.com/github/EliasSf73/Competitive_programming_submission/blob/main/Equal_arrays.ipynb\" target=\"_parent\"><img src=\"https://colab.research.google.com/assets/colab-badge.svg\" alt=\"Open In Colab\"/></a>"
      ]
    },
    {
      "cell_type": "code",
      "execution_count": 1,
      "metadata": {
        "id": "_sCXD5lE02ve"
      },
      "outputs": [],
      "source": [
        "from collections import Counter\n",
        "class Solution:\n",
        "    #Function to check if two arrays are equal or not.\n",
        "    def check(self,A,B,N):\n",
        "\n",
        "        #return: True or False\n",
        "\n",
        "        #code here\n",
        "\n",
        "\n",
        "        counterA=Counter(A)\n",
        "        counterB=Counter(B)\n",
        "        return counterA==counterB"
      ]
    }
  ]
}