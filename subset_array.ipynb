{
  "nbformat": 4,
  "nbformat_minor": 0,
  "metadata": {
    "colab": {
      "provenance": [],
      "authorship_tag": "ABX9TyOuaNdWatYqBVchlhRNGQ9a",
      "include_colab_link": true
    },
    "kernelspec": {
      "name": "python3",
      "display_name": "Python 3"
    },
    "language_info": {
      "name": "python"
    }
  },
  "cells": [
    {
      "cell_type": "markdown",
      "metadata": {
        "id": "view-in-github",
        "colab_type": "text"
      },
      "source": [
        "<a href=\"https://colab.research.google.com/github/EliasSf73/Competitive_programming_submission/blob/main/subset_array.ipynb\" target=\"_parent\"><img src=\"https://colab.research.google.com/assets/colab-badge.svg\" alt=\"Open In Colab\"/></a>"
      ]
    },
    {
      "cell_type": "code",
      "execution_count": 1,
      "metadata": {
        "id": "_sCXD5lE02ve"
      },
      "outputs": [],
      "source": [
        "from collections import Counter\n",
        "\n",
        "def isSubset(a1, a2, n, m):\n",
        "    counterA1 = Counter(a1)\n",
        "    counterA2 = Counter(a2)\n",
        "    is_subset = True\n",
        "    for key in counterA2:\n",
        "        if key not in counterA1 or counterA1[key] < counterA2[key]:\n",
        "            is_subset = False\n",
        "            break\n",
        "    if is_subset:\n",
        "        print('Yes')\n",
        "    else:\n",
        "        print('No')\n"
      ]
    }
  ]
}